{
 "cells": [
  {
   "cell_type": "code",
   "execution_count": 55,
   "metadata": {},
   "outputs": [
    {
     "name": "stdout",
     "output_type": "stream",
     "text": [
      "testing\n",
      "st\n"
     ]
    }
   ],
   "source": [
    "#Домашнее задание к лекции \"Введение в типы данных и циклы. Часть 1\"\n",
    "#Задание 1\n",
    "#Дана переменная, в которой хранится слово из латинских букв. Напишите код, который выводит на экран:\n",
    "\n",
    "#среднюю букву, если число букв в слове нечетное;\n",
    "#две средних буквы, если число букв четное.\n",
    "#Примеры работы программы:\n",
    "\n",
    "#word = 'test'\n",
    "#Результат:\n",
    "#es\n",
    "\n",
    "#word = 'testing'\n",
    "#Результат:\n",
    "#t\n",
    "\n",
    "s = input()\n",
    "if len(s)%2==0: print(s[int(len(s) / 2 - 0.1)])\n",
    "else: print((s[int((len(s) / 2 - 1))]+s[int((len(s) / 2 - 0.1))]))\n",
    "\n"
   ]
  },
  {
   "cell_type": "code",
   "execution_count": 66,
   "metadata": {},
   "outputs": [
    {
     "name": "stdout",
     "output_type": "stream",
     "text": [
      "Введите число 5\n",
      "Введите число 4\n",
      "Введите число 4\n",
      "Введите число 5\n",
      "Введите число 6\n",
      "Введите число 0\n",
      "24\n"
     ]
    }
   ],
   "source": [
    "s = int(input(\"Введите число \"))\n",
    "result = 0\n",
    "while s:\n",
    "    result += s\n",
    "    s = int(input(\"Введите число \"))\n",
    "print(result)"
   ]
  }
 ],
 "metadata": {
  "kernelspec": {
   "display_name": "Python 3",
   "language": "python",
   "name": "python3"
  },
  "language_info": {
   "codemirror_mode": {
    "name": "ipython",
    "version": 3
   },
   "file_extension": ".py",
   "mimetype": "text/x-python",
   "name": "python",
   "nbconvert_exporter": "python",
   "pygments_lexer": "ipython3",
   "version": "3.8.5"
  }
 },
 "nbformat": 4,
 "nbformat_minor": 4
}
