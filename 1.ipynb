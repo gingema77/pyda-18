{
 "cells": [
  {
   "cell_type": "code",
   "execution_count": 1,
   "metadata": {},
   "outputs": [
    {
     "name": "stdout",
     "output_type": "stream",
     "text": [
      "Фразы равной длины\n"
     ]
    }
   ],
   "source": [
    "##Задание 1\n",
    "\n",
    "phrase_1 = \"Насколько проще было бы писать программы, если бы не заказчики\"\n",
    "\n",
    "phrase_2 = \"640Кб должно хватить для любых задач. Билал Гейтс (по легенде)\"\n",
    "\n",
    "if len(phrase_1) > len(phrase_2): print (\"Фраза 1 длиннее фразы 2\")\n",
    "\n",
    "elif len(phrase_1) < len(phrase_2): print (\"Фраза 2 длиннее фразы 1\")\n",
    "\n",
    "else: print (\"Фразы равной длины\")"
   ]
  },
  {
   "cell_type": "code",
   "execution_count": null,
   "metadata": {},
   "outputs": [],
   "source": [
    "##Задание 2\n",
    "year = int(input())\n",
    "if (year % 4 == 0) and (year % 100 != 0) or (year % 400 == 0):\n",
    "    print(\"Високосный год\")\n",
    "else:\n",
    "    print(\"Обычный год\")"
   ]
  },
  {
   "cell_type": "code",
   "execution_count": null,
   "metadata": {},
   "outputs": [],
   "source": []
  },
  {
   "cell_type": "code",
   "execution_count": null,
   "metadata": {},
   "outputs": [],
   "source": [
    "##Задание 3\n",
    "day = int(input(\"Введите день \"))\n",
    "month = int(input(\"Введите месяц \"))\n",
    "if (date>=21 and date<=31 and month==3) or( month==4 and date>=1 and date<=20): print(\"Знак зодиака:Овен\")\n",
    "\n",
    "elif  (date>=21 and date<=31 and month==4) or( month==5 and date>=1 and date<=21):print(\"Знак зодиака:Телец\")\n",
    "    \n",
    "elif  (date>=22 and date<=31 and month==5) or( month==6 and date>=1 and date<=21):print(\"Знак зодиака:Близнецы\")\n",
    "    \n",
    "elif  (date>=22 and date<=31 and month==6) or( month==7 and date>=1 and date<=22):print(\"Знак зодиака:Рак\")\n",
    "    \n",
    "elif  (date>=23 and date<=31 and month==7) or( month==8 and date>=1 and date<=22):print(\"Знак зодиака:Лев\")\n",
    "    \n",
    "elif  (date>=23 and date<=31 and month==8) or( month==9 and date>=1 and date<=22):print(\"Знак зодиака:Дева\")\n",
    "\n",
    "elif  (date>=23 and date<=31 and month==9) or( month==10 and date>=1 and date<=22):print(\"Знак зодиака:Весы\")\n",
    "    \n",
    "elif  (date>=23 and date<=31 and month==10) or( month==11 and date>=1 and date<=22):print(\"Знак зодиака:Скорпион\")\n",
    "    \n",
    "elif  (date>=23 and date<=31 and month==11) or( month==12 and date>=1 and date<=21):print(\"Знак зодиака:Стрелец\")\n",
    "    \n",
    "elif  (date>=22 and date<=31 and month==12) or( month==1 and date>=1 and date<=20):print(\"Знак зодиака:Козерог\")\n",
    "    \n",
    "elif  (date>=20 and date<=31 and month==1) or( month==2 and date>=1 and date<=19):print(\"Знак зодиака:Водолей\")\n",
    "    \n",
    "else: print(\"Знак зодиака: Рыбы\")\n"
   ]
  },
  {
   "cell_type": "code",
   "execution_count": null,
   "metadata": {},
   "outputs": [],
   "source": []
  },
  {
   "cell_type": "code",
   "execution_count": null,
   "metadata": {},
   "outputs": [],
   "source": []
  }
 ],
 "metadata": {
  "kernelspec": {
   "display_name": "Python 3",
   "language": "python",
   "name": "python3"
  },
  "language_info": {
   "codemirror_mode": {
    "name": "ipython",
    "version": 3
   },
   "file_extension": ".py",
   "mimetype": "text/x-python",
   "name": "python",
   "nbconvert_exporter": "python",
   "pygments_lexer": "ipython3",
   "version": "3.8.5"
  }
 },
 "nbformat": 4,
 "nbformat_minor": 4
}
